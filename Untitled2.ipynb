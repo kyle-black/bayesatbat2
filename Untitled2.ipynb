{
 "cells": [
  {
   "cell_type": "code",
   "execution_count": 1,
   "metadata": {},
   "outputs": [],
   "source": [
    "import pandas as pd"
   ]
  },
  {
   "cell_type": "code",
   "execution_count": 2,
   "metadata": {},
   "outputs": [],
   "source": [
    "df = pd.read_csv('MAIN.csv')"
   ]
  },
  {
   "cell_type": "code",
   "execution_count": 8,
   "metadata": {},
   "outputs": [],
   "source": [
    "df=df[['batter','player_name']]"
   ]
  },
  {
   "cell_type": "code",
   "execution_count": 9,
   "metadata": {},
   "outputs": [
    {
     "data": {
      "text/html": [
       "<div>\n",
       "<style scoped>\n",
       "    .dataframe tbody tr th:only-of-type {\n",
       "        vertical-align: middle;\n",
       "    }\n",
       "\n",
       "    .dataframe tbody tr th {\n",
       "        vertical-align: top;\n",
       "    }\n",
       "\n",
       "    .dataframe thead th {\n",
       "        text-align: right;\n",
       "    }\n",
       "</style>\n",
       "<table border=\"1\" class=\"dataframe\">\n",
       "  <thead>\n",
       "    <tr style=\"text-align: right;\">\n",
       "      <th></th>\n",
       "      <th>batter</th>\n",
       "      <th>player_name</th>\n",
       "    </tr>\n",
       "  </thead>\n",
       "  <tbody>\n",
       "    <tr>\n",
       "      <th>0</th>\n",
       "      <td>457763</td>\n",
       "      <td>Posey, Buster</td>\n",
       "    </tr>\n",
       "    <tr>\n",
       "      <th>1</th>\n",
       "      <td>673451</td>\n",
       "      <td>Akiyama, Shogo</td>\n",
       "    </tr>\n",
       "    <tr>\n",
       "      <th>2</th>\n",
       "      <td>645277</td>\n",
       "      <td>Albies, Ozzie</td>\n",
       "    </tr>\n",
       "    <tr>\n",
       "      <th>3</th>\n",
       "      <td>641684</td>\n",
       "      <td>Hermosillo, Michael</td>\n",
       "    </tr>\n",
       "    <tr>\n",
       "      <th>4</th>\n",
       "      <td>593871</td>\n",
       "      <td>Polanco, Jorge</td>\n",
       "    </tr>\n",
       "    <tr>\n",
       "      <th>...</th>\n",
       "      <td>...</td>\n",
       "      <td>...</td>\n",
       "    </tr>\n",
       "    <tr>\n",
       "      <th>116424</th>\n",
       "      <td>665665</td>\n",
       "      <td>Sanmartin, Reiver</td>\n",
       "    </tr>\n",
       "    <tr>\n",
       "      <th>117526</th>\n",
       "      <td>501625</td>\n",
       "      <td>Álvarez, José</td>\n",
       "    </tr>\n",
       "    <tr>\n",
       "      <th>117842</th>\n",
       "      <td>570632</td>\n",
       "      <td>Ureña, José</td>\n",
       "    </tr>\n",
       "    <tr>\n",
       "      <th>119348</th>\n",
       "      <td>543056</td>\n",
       "      <td>Coulombe, Danny</td>\n",
       "    </tr>\n",
       "    <tr>\n",
       "      <th>119736</th>\n",
       "      <td>547943</td>\n",
       "      <td>Ryu, Hyun Jin</td>\n",
       "    </tr>\n",
       "  </tbody>\n",
       "</table>\n",
       "<p>923 rows × 2 columns</p>\n",
       "</div>"
      ],
      "text/plain": [
       "        batter          player_name\n",
       "0       457763        Posey, Buster\n",
       "1       673451       Akiyama, Shogo\n",
       "2       645277        Albies, Ozzie\n",
       "3       641684  Hermosillo, Michael\n",
       "4       593871       Polanco, Jorge\n",
       "...        ...                  ...\n",
       "116424  665665    Sanmartin, Reiver\n",
       "117526  501625        Álvarez, José\n",
       "117842  570632          Ureña, José\n",
       "119348  543056      Coulombe, Danny\n",
       "119736  547943        Ryu, Hyun Jin\n",
       "\n",
       "[923 rows x 2 columns]"
      ]
     },
     "execution_count": 9,
     "metadata": {},
     "output_type": "execute_result"
    }
   ],
   "source": [
    "df.drop_duplicates()"
   ]
  },
  {
   "cell_type": "code",
   "execution_count": null,
   "metadata": {},
   "outputs": [],
   "source": []
  }
 ],
 "metadata": {
  "kernelspec": {
   "display_name": "Python 3",
   "language": "python",
   "name": "python3"
  },
  "language_info": {
   "codemirror_mode": {
    "name": "ipython",
    "version": 3
   },
   "file_extension": ".py",
   "mimetype": "text/x-python",
   "name": "python",
   "nbconvert_exporter": "python",
   "pygments_lexer": "ipython3",
   "version": "3.8.5"
  }
 },
 "nbformat": 4,
 "nbformat_minor": 4
}
